{
 "cells": [
  {
   "attachments": {},
   "cell_type": "markdown",
   "metadata": {},
   "source": [
    "# ĐÔ ÁN CUỐI KỲ\n",
    "\n",
    "Tên sinh viên: Lê Quốc Kỳ Anh\\\n",
    "MSSV: 20127107\n",
    "\n",
    "Giáo viên hướng dẫn:\n",
    "    Nguyễn Bảo Long\\\n",
    "    Phạm Trọng Nghĩa\\\n",
    "    Nguyễn Thái Vũ.\n"
   ]
  },
  {
   "attachments": {},
   "cell_type": "markdown",
   "metadata": {},
   "source": [
    "# IMPORT THƯ VIỆN"
   ]
  },
  {
   "cell_type": "code",
   "execution_count": 1,
   "metadata": {},
   "outputs": [],
   "source": [
    "import matplotlib.pyplot as plt\n",
    "import numpy as np\n",
    "import pandas as pd\n",
    "%matplotlib inline"
   ]
  },
  {
   "attachments": {},
   "cell_type": "markdown",
   "metadata": {},
   "source": [
    "# LẤY DỮ LIỆU\n",
    "\n",
    "Trong đồ án này, dữ liệu em sử dụng chính là dữ liệu từ dataset của Yelp trên trang Kaggle. Yelp là một công ty của Mỹ cho phép người dùng có thể đặt các dịch vụ, tìm kiếm quán ăn; đánh giá, nhận xét các dịch vụ đó.\n",
    "\n",
    "Khi tải dataset về, bên trong có một file PDF chứa nội dung về các điều khoản sử dụng do Yelp viết, tức là Yelp đã cho phép sử dụng dataset này và sử dụng với mục đích học tập.\n",
    "\n",
    "Ngoài ra, dataset này khá có dung lượng lớn (cỡ 10GB) khi tải, còn có thêm 5 file json đi kèm với file PDF đã kể ở trên. Các file json đó là: \"yelp_academic_dataset_business\",\"yelp_academic_dataset_checkin\",\"yelp_academic_dataset_review\",\"yelp_academic_dataset_tip\",\"yelp_academic_dataset_user\".\n",
    "Em quan tâm tới hai file json là \"yelp_academic_dataset_business\" (gồm thông tin của các cơ sở kinh doanh) và \"yelp_academic_dataset_review\" (gồm các nhận xét, thông tin đánh giá các cơ sở kinh doanh từ người dùng)"
   ]
  },
  {
   "attachments": {},
   "cell_type": "markdown",
   "metadata": {},
   "source": [
    "# KHÁM PHÁ DỮ LIỆU"
   ]
  },
  {
   "attachments": {},
   "cell_type": "markdown",
   "metadata": {},
   "source": [
    "## Data Description:"
   ]
  },
  {
   "attachments": {},
   "cell_type": "markdown",
   "metadata": {},
   "source": [
    "Phần này Yelp để ở trên trang chủ của mình (https://www.yelp.com/dataset/documentation/main), trong đó:\n",
    "\n",
    "- Phần \"yelp_academic_dataset_business\" gồm:\n",
    "        business_id: mã id doanh nghiệp (kiểu string, 22 chữ số và duy nhất)\n",
    "        name: tên doanh nghiệp (kiểu string)\n",
    "        address: địa chỉ (kiểu string)\n",
    "        city: thành phố (kiểu string)\n",
    "        state: mã bang (kiểu string, 2 kí tự)\n",
    "        postal_code: mã bưu chính (kiểu string)\n",
    "        latitude: vĩ độ (kiểu float)\n",
    "        longitude: kinh độ (kiểu float)\n",
    "        stars: sao trung bình (kiểu float, làm tròn đến 0.5)\n",
    "        review_count: số lượng review (kiểu int)\n",
    "        is_open: có còn hoạt động hay không (kiểu int, 0: đã đóng cửa và 1: đang mở cửa)\n",
    "        attributes: một số thông tin về doanh nghiệp (object : đậu xe như thế nào, thanh toán thẻ được không,..)\n",
    "        categories: danh sách các loại của doanh nghiệp (array of string)\n",
    "        hours: giờ mở cửa (object: Thứ Hai, Thứ Ba, Thứ Tư, Thứ Năm, Thứ Bảy, Chủ Nhật và thời gian mở cửa tương ứng với các ngày đó)\n",
    "    \n",
    "- Phần \"yelp_academic_dataset_review\" gồm:\n",
    "        user_id: mã id người dùng (kiểu string, 22 chữ số và duy nhất)\n",
    "        text: nội dung review (kiểu string)\n",
    "        date: ngày review (kiểu string, format là yyyy-mm-dd HH:MM:SS)\n",
    "        review_id: mã id của review (kiểu string, 22 chữ số và duy nhất)\n",
    "        business_id: mã id doanh nghiệp được review (kiểu string, 22 chữ số và duy nhất)\n",
    "        funny: độ hài hước của review này được vote (kiểu int)\n",
    "        cool: độ ấn tượng của review này được vote (kiểu int)\n",
    "        useful: độ ích lợi của review được vote (kiểu int)\n",
    "        stars: số sao review (kiểu int)"
   ]
  },
  {
   "attachments": {},
   "cell_type": "markdown",
   "metadata": {},
   "source": [
    "## ĐỌC DỮ LIỆU VÀO DATAFRAME\n",
    "\n",
    "Khi mở các file json ra thì em thấy chúng được soạn thảo một cách ngay ngắn, căn đều với nhau. Nên em có thể dùng pd.read_json() để đọc Dataframe. Nhưng do lưu lượng file của mục review quá nặng nên máy của em rơi vào trạng thái bị đơ. Để cho kịp tiến độ thì em đã lên lại Kaggle để tải file \"review.csv\" do một người nào đó convert được."
   ]
  },
  {
   "cell_type": "code",
   "execution_count": 2,
   "metadata": {},
   "outputs": [],
   "source": [
    "business_df = pd.read_json('yelp_academic_dataset_business.json', lines=True)"
   ]
  },
  {
   "cell_type": "code",
   "execution_count": 3,
   "metadata": {},
   "outputs": [
    {
     "data": {
      "text/html": [
       "<div>\n",
       "<style scoped>\n",
       "    .dataframe tbody tr th:only-of-type {\n",
       "        vertical-align: middle;\n",
       "    }\n",
       "\n",
       "    .dataframe tbody tr th {\n",
       "        vertical-align: top;\n",
       "    }\n",
       "\n",
       "    .dataframe thead th {\n",
       "        text-align: right;\n",
       "    }\n",
       "</style>\n",
       "<table border=\"1\" class=\"dataframe\">\n",
       "  <thead>\n",
       "    <tr style=\"text-align: right;\">\n",
       "      <th></th>\n",
       "      <th>business_id</th>\n",
       "      <th>name</th>\n",
       "      <th>address</th>\n",
       "      <th>city</th>\n",
       "      <th>state</th>\n",
       "      <th>postal_code</th>\n",
       "      <th>latitude</th>\n",
       "      <th>longitude</th>\n",
       "      <th>stars</th>\n",
       "      <th>review_count</th>\n",
       "      <th>is_open</th>\n",
       "      <th>attributes</th>\n",
       "      <th>categories</th>\n",
       "      <th>hours</th>\n",
       "    </tr>\n",
       "  </thead>\n",
       "  <tbody>\n",
       "    <tr>\n",
       "      <th>0</th>\n",
       "      <td>Pns2l4eNsfO8kk83dixA6A</td>\n",
       "      <td>Abby Rappoport, LAC, CMQ</td>\n",
       "      <td>1616 Chapala St, Ste 2</td>\n",
       "      <td>Santa Barbara</td>\n",
       "      <td>CA</td>\n",
       "      <td>93101</td>\n",
       "      <td>34.426679</td>\n",
       "      <td>-119.711197</td>\n",
       "      <td>5.0</td>\n",
       "      <td>7</td>\n",
       "      <td>0</td>\n",
       "      <td>{'ByAppointmentOnly': 'True'}</td>\n",
       "      <td>Doctors, Traditional Chinese Medicine, Naturop...</td>\n",
       "      <td>None</td>\n",
       "    </tr>\n",
       "    <tr>\n",
       "      <th>1</th>\n",
       "      <td>mpf3x-BjTdTEA3yCZrAYPw</td>\n",
       "      <td>The UPS Store</td>\n",
       "      <td>87 Grasso Plaza Shopping Center</td>\n",
       "      <td>Affton</td>\n",
       "      <td>MO</td>\n",
       "      <td>63123</td>\n",
       "      <td>38.551126</td>\n",
       "      <td>-90.335695</td>\n",
       "      <td>3.0</td>\n",
       "      <td>15</td>\n",
       "      <td>1</td>\n",
       "      <td>{'BusinessAcceptsCreditCards': 'True'}</td>\n",
       "      <td>Shipping Centers, Local Services, Notaries, Ma...</td>\n",
       "      <td>{'Monday': '0:0-0:0', 'Tuesday': '8:0-18:30', ...</td>\n",
       "    </tr>\n",
       "    <tr>\n",
       "      <th>2</th>\n",
       "      <td>tUFrWirKiKi_TAnsVWINQQ</td>\n",
       "      <td>Target</td>\n",
       "      <td>5255 E Broadway Blvd</td>\n",
       "      <td>Tucson</td>\n",
       "      <td>AZ</td>\n",
       "      <td>85711</td>\n",
       "      <td>32.223236</td>\n",
       "      <td>-110.880452</td>\n",
       "      <td>3.5</td>\n",
       "      <td>22</td>\n",
       "      <td>0</td>\n",
       "      <td>{'BikeParking': 'True', 'BusinessAcceptsCredit...</td>\n",
       "      <td>Department Stores, Shopping, Fashion, Home &amp; G...</td>\n",
       "      <td>{'Monday': '8:0-22:0', 'Tuesday': '8:0-22:0', ...</td>\n",
       "    </tr>\n",
       "    <tr>\n",
       "      <th>3</th>\n",
       "      <td>MTSW4McQd7CbVtyjqoe9mw</td>\n",
       "      <td>St Honore Pastries</td>\n",
       "      <td>935 Race St</td>\n",
       "      <td>Philadelphia</td>\n",
       "      <td>PA</td>\n",
       "      <td>19107</td>\n",
       "      <td>39.955505</td>\n",
       "      <td>-75.155564</td>\n",
       "      <td>4.0</td>\n",
       "      <td>80</td>\n",
       "      <td>1</td>\n",
       "      <td>{'RestaurantsDelivery': 'False', 'OutdoorSeati...</td>\n",
       "      <td>Restaurants, Food, Bubble Tea, Coffee &amp; Tea, B...</td>\n",
       "      <td>{'Monday': '7:0-20:0', 'Tuesday': '7:0-20:0', ...</td>\n",
       "    </tr>\n",
       "    <tr>\n",
       "      <th>4</th>\n",
       "      <td>mWMc6_wTdE0EUBKIGXDVfA</td>\n",
       "      <td>Perkiomen Valley Brewery</td>\n",
       "      <td>101 Walnut St</td>\n",
       "      <td>Green Lane</td>\n",
       "      <td>PA</td>\n",
       "      <td>18054</td>\n",
       "      <td>40.338183</td>\n",
       "      <td>-75.471659</td>\n",
       "      <td>4.5</td>\n",
       "      <td>13</td>\n",
       "      <td>1</td>\n",
       "      <td>{'BusinessAcceptsCreditCards': 'True', 'Wheelc...</td>\n",
       "      <td>Brewpubs, Breweries, Food</td>\n",
       "      <td>{'Wednesday': '14:0-22:0', 'Thursday': '16:0-2...</td>\n",
       "    </tr>\n",
       "  </tbody>\n",
       "</table>\n",
       "</div>"
      ],
      "text/plain": [
       "              business_id                      name  \\\n",
       "0  Pns2l4eNsfO8kk83dixA6A  Abby Rappoport, LAC, CMQ   \n",
       "1  mpf3x-BjTdTEA3yCZrAYPw             The UPS Store   \n",
       "2  tUFrWirKiKi_TAnsVWINQQ                    Target   \n",
       "3  MTSW4McQd7CbVtyjqoe9mw        St Honore Pastries   \n",
       "4  mWMc6_wTdE0EUBKIGXDVfA  Perkiomen Valley Brewery   \n",
       "\n",
       "                           address           city state postal_code  \\\n",
       "0           1616 Chapala St, Ste 2  Santa Barbara    CA       93101   \n",
       "1  87 Grasso Plaza Shopping Center         Affton    MO       63123   \n",
       "2             5255 E Broadway Blvd         Tucson    AZ       85711   \n",
       "3                      935 Race St   Philadelphia    PA       19107   \n",
       "4                    101 Walnut St     Green Lane    PA       18054   \n",
       "\n",
       "    latitude   longitude  stars  review_count  is_open  \\\n",
       "0  34.426679 -119.711197    5.0             7        0   \n",
       "1  38.551126  -90.335695    3.0            15        1   \n",
       "2  32.223236 -110.880452    3.5            22        0   \n",
       "3  39.955505  -75.155564    4.0            80        1   \n",
       "4  40.338183  -75.471659    4.5            13        1   \n",
       "\n",
       "                                          attributes  \\\n",
       "0                      {'ByAppointmentOnly': 'True'}   \n",
       "1             {'BusinessAcceptsCreditCards': 'True'}   \n",
       "2  {'BikeParking': 'True', 'BusinessAcceptsCredit...   \n",
       "3  {'RestaurantsDelivery': 'False', 'OutdoorSeati...   \n",
       "4  {'BusinessAcceptsCreditCards': 'True', 'Wheelc...   \n",
       "\n",
       "                                          categories  \\\n",
       "0  Doctors, Traditional Chinese Medicine, Naturop...   \n",
       "1  Shipping Centers, Local Services, Notaries, Ma...   \n",
       "2  Department Stores, Shopping, Fashion, Home & G...   \n",
       "3  Restaurants, Food, Bubble Tea, Coffee & Tea, B...   \n",
       "4                          Brewpubs, Breweries, Food   \n",
       "\n",
       "                                               hours  \n",
       "0                                               None  \n",
       "1  {'Monday': '0:0-0:0', 'Tuesday': '8:0-18:30', ...  \n",
       "2  {'Monday': '8:0-22:0', 'Tuesday': '8:0-22:0', ...  \n",
       "3  {'Monday': '7:0-20:0', 'Tuesday': '7:0-20:0', ...  \n",
       "4  {'Wednesday': '14:0-22:0', 'Thursday': '16:0-2...  "
      ]
     },
     "execution_count": 3,
     "metadata": {},
     "output_type": "execute_result"
    }
   ],
   "source": [
    "business_df.head()"
   ]
  },
  {
   "attachments": {},
   "cell_type": "markdown",
   "metadata": {},
   "source": [
    "File \"review.csv\" này đã được người khác đăng cách đây 4 năm, nên dung lượng chỉ còn rơi vào khoảng 4GB, nhưng cũng khá nặng. Do bên trong có một số cột em thấy mình không cần dùng tới như: \"user_id\",\"useful\", \"text\", \"cool\", \"funny\" nên sẽ tạm bỏ để việc đọc diễn ra nhanh hơn."
   ]
  },
  {
   "cell_type": "code",
   "execution_count": 4,
   "metadata": {},
   "outputs": [],
   "source": [
    "reviews_df = pd.read_csv('yelp_academic_dataset_review.csv', usecols=['date','review_id','business_id','stars'])"
   ]
  },
  {
   "cell_type": "code",
   "execution_count": 5,
   "metadata": {},
   "outputs": [
    {
     "data": {
      "text/html": [
       "<div>\n",
       "<style scoped>\n",
       "    .dataframe tbody tr th:only-of-type {\n",
       "        vertical-align: middle;\n",
       "    }\n",
       "\n",
       "    .dataframe tbody tr th {\n",
       "        vertical-align: top;\n",
       "    }\n",
       "\n",
       "    .dataframe thead th {\n",
       "        text-align: right;\n",
       "    }\n",
       "</style>\n",
       "<table border=\"1\" class=\"dataframe\">\n",
       "  <thead>\n",
       "    <tr style=\"text-align: right;\">\n",
       "      <th></th>\n",
       "      <th>date</th>\n",
       "      <th>review_id</th>\n",
       "      <th>business_id</th>\n",
       "      <th>stars</th>\n",
       "    </tr>\n",
       "  </thead>\n",
       "  <tbody>\n",
       "    <tr>\n",
       "      <th>0</th>\n",
       "      <td>b'2013-05-07 04:34:36'</td>\n",
       "      <td>b'Q1sbwvVQXV2734tPgoKj4Q'</td>\n",
       "      <td>b'ujmEBvifdJM6h6RLv4wQIg'</td>\n",
       "      <td>1.0</td>\n",
       "    </tr>\n",
       "    <tr>\n",
       "      <th>1</th>\n",
       "      <td>b'2017-01-14 21:30:33'</td>\n",
       "      <td>b'GJXCdrto3ASJOqKeVWPi6Q'</td>\n",
       "      <td>b'NZnhc2sEQy3RmzKTZnqtwQ'</td>\n",
       "      <td>5.0</td>\n",
       "    </tr>\n",
       "    <tr>\n",
       "      <th>2</th>\n",
       "      <td>b'2016-11-09 20:09:03'</td>\n",
       "      <td>b'2TzJjDVDEuAW6MR5Vuc1ug'</td>\n",
       "      <td>b'WTqjgwHlXbSFevF32_DJVw'</td>\n",
       "      <td>5.0</td>\n",
       "    </tr>\n",
       "    <tr>\n",
       "      <th>3</th>\n",
       "      <td>b'2018-01-09 20:56:38'</td>\n",
       "      <td>b'yi0R0Ugj_xUx_Nek0-_Qig'</td>\n",
       "      <td>b'ikCg8xy5JIg_NGPx-MSIDA'</td>\n",
       "      <td>5.0</td>\n",
       "    </tr>\n",
       "    <tr>\n",
       "      <th>4</th>\n",
       "      <td>b'2018-01-30 23:07:38'</td>\n",
       "      <td>b'11a8sVPMUFtaC7_ABRkmtw'</td>\n",
       "      <td>b'b1b1eb3uo-w561D0ZfCEiQ'</td>\n",
       "      <td>1.0</td>\n",
       "    </tr>\n",
       "  </tbody>\n",
       "</table>\n",
       "</div>"
      ],
      "text/plain": [
       "                     date                  review_id  \\\n",
       "0  b'2013-05-07 04:34:36'  b'Q1sbwvVQXV2734tPgoKj4Q'   \n",
       "1  b'2017-01-14 21:30:33'  b'GJXCdrto3ASJOqKeVWPi6Q'   \n",
       "2  b'2016-11-09 20:09:03'  b'2TzJjDVDEuAW6MR5Vuc1ug'   \n",
       "3  b'2018-01-09 20:56:38'  b'yi0R0Ugj_xUx_Nek0-_Qig'   \n",
       "4  b'2018-01-30 23:07:38'  b'11a8sVPMUFtaC7_ABRkmtw'   \n",
       "\n",
       "                 business_id  stars  \n",
       "0  b'ujmEBvifdJM6h6RLv4wQIg'    1.0  \n",
       "1  b'NZnhc2sEQy3RmzKTZnqtwQ'    5.0  \n",
       "2  b'WTqjgwHlXbSFevF32_DJVw'    5.0  \n",
       "3  b'ikCg8xy5JIg_NGPx-MSIDA'    5.0  \n",
       "4  b'b1b1eb3uo-w561D0ZfCEiQ'    1.0  "
      ]
     },
     "execution_count": 5,
     "metadata": {},
     "output_type": "execute_result"
    }
   ],
   "source": [
    "reviews_df.head()"
   ]
  },
  {
   "attachments": {},
   "cell_type": "markdown",
   "metadata": {},
   "source": [
    "### DỮ LIỆU GỒM BAO NHIÊU DÒNG VÀ BAO NHIÊU CỘT"
   ]
  },
  {
   "cell_type": "code",
   "execution_count": 48,
   "metadata": {},
   "outputs": [
    {
     "data": {
      "text/plain": [
       "(34987, 14)"
      ]
     },
     "execution_count": 48,
     "metadata": {},
     "output_type": "execute_result"
    }
   ],
   "source": [
    "business_df.shape\n"
   ]
  },
  {
   "cell_type": "code",
   "execution_count": 7,
   "metadata": {},
   "outputs": [
    {
     "data": {
      "text/plain": [
       "(6685900, 4)"
      ]
     },
     "execution_count": 7,
     "metadata": {},
     "output_type": "execute_result"
    }
   ],
   "source": [
    "reviews_df.shape"
   ]
  },
  {
   "attachments": {},
   "cell_type": "markdown",
   "metadata": {},
   "source": [
    "Với business_df thì có 34987 dòng, 14 cột, mỗi dòng là một doanh nghiệp, còn reviews_df thì có 6685900 dòng, 6 cột, mỗi dòng là một review."
   ]
  },
  {
   "attachments": {},
   "cell_type": "markdown",
   "metadata": {},
   "source": [
    "### Ý NGHĨA MỖI DÒNG VÀ CỘT"
   ]
  },
  {
   "attachments": {},
   "cell_type": "markdown",
   "metadata": {},
   "source": [
    "Về ý nghĩa chi tiết thì em đã để ở trên phần Data Description. Với phần business_df thì là một cửa hàng kinh doanh. Còn với reviews_df thì là một lời nhận xét đối với một cửa hàng nào đó\n"
   ]
  },
  {
   "attachments": {},
   "cell_type": "markdown",
   "metadata": {},
   "source": [
    "### MỖI CỘT CÓ DTYPE LÀ GÌ"
   ]
  },
  {
   "attachments": {},
   "cell_type": "markdown",
   "metadata": {},
   "source": [
    "## Business_df"
   ]
  },
  {
   "cell_type": "code",
   "execution_count": 8,
   "metadata": {},
   "outputs": [
    {
     "name": "stdout",
     "output_type": "stream",
     "text": [
      "<class 'pandas.core.frame.DataFrame'>\n",
      "RangeIndex: 150346 entries, 0 to 150345\n",
      "Data columns (total 14 columns):\n",
      " #   Column        Non-Null Count   Dtype  \n",
      "---  ------        --------------   -----  \n",
      " 0   business_id   150346 non-null  object \n",
      " 1   name          150346 non-null  object \n",
      " 2   address       150346 non-null  object \n",
      " 3   city          150346 non-null  object \n",
      " 4   state         150346 non-null  object \n",
      " 5   postal_code   150346 non-null  object \n",
      " 6   latitude      150346 non-null  float64\n",
      " 7   longitude     150346 non-null  float64\n",
      " 8   stars         150346 non-null  float64\n",
      " 9   review_count  150346 non-null  int64  \n",
      " 10  is_open       150346 non-null  int64  \n",
      " 11  attributes    136602 non-null  object \n",
      " 12  categories    150243 non-null  object \n",
      " 13  hours         127123 non-null  object \n",
      "dtypes: float64(3), int64(2), object(9)\n",
      "memory usage: 16.1+ MB\n"
     ]
    }
   ],
   "source": [
    "business_df.info()"
   ]
  },
  {
   "attachments": {},
   "cell_type": "markdown",
   "metadata": {},
   "source": [
    "**Một số thông tin về dtype và null values:**"
   ]
  },
  {
   "attachments": {},
   "cell_type": "markdown",
   "metadata": {},
   "source": [
    "Ở đây em kiểm tra dtype của vài cột object nên sẽ dùng lại hàm đã được học ở lab3 là \"open_object_dtype()\""
   ]
  },
  {
   "cell_type": "code",
   "execution_count": 9,
   "metadata": {},
   "outputs": [],
   "source": [
    "def open_object_dtype(s):\n",
    "    dtypes = set()\n",
    "    for value in s.values:\n",
    "            dtypes.add(type(value))\n",
    "    return dtypes"
   ]
  },
  {
   "cell_type": "code",
   "execution_count": 10,
   "metadata": {},
   "outputs": [
    {
     "data": {
      "text/plain": [
       "{str}"
      ]
     },
     "execution_count": 10,
     "metadata": {},
     "output_type": "execute_result"
    }
   ],
   "source": [
    "open_object_dtype(business_df.postal_code)"
   ]
  },
  {
   "attachments": {},
   "cell_type": "markdown",
   "metadata": {},
   "source": [
    "Postal_code mang kiểu string là vì ở Mỹ sẽ có thêm các chữ cái"
   ]
  },
  {
   "cell_type": "code",
   "execution_count": 47,
   "metadata": {},
   "outputs": [
    {
     "data": {
      "text/plain": [
       "66871       19124\n",
       "46761       19061\n",
       "96613     T6K 4A9\n",
       "89568       33781\n",
       "113117      63127\n",
       "Name: postal_code, dtype: object"
      ]
     },
     "execution_count": 47,
     "metadata": {},
     "output_type": "execute_result"
    }
   ],
   "source": [
    "business_df.postal_code.sample(5)"
   ]
  },
  {
   "attachments": {},
   "cell_type": "markdown",
   "metadata": {},
   "source": [
    "hours và attributes ở đây là object (cụ thể là json object hay dict của python và NoneType (của các null values))"
   ]
  },
  {
   "cell_type": "code",
   "execution_count": 12,
   "metadata": {},
   "outputs": [
    {
     "data": {
      "text/plain": [
       "64878     {'Monday': '0:0-0:0', 'Tuesday': '7:30-19:0', ...\n",
       "31192     {'Wednesday': '10:0-16:0', 'Thursday': '10:0-1...\n",
       "55538                                                  None\n",
       "58420     {'Monday': '0:0-0:0', 'Wednesday': '9:0-18:0',...\n",
       "129712    {'Wednesday': '11:0-21:0', 'Thursday': '11:0-2...\n",
       "Name: hours, dtype: object"
      ]
     },
     "execution_count": 12,
     "metadata": {},
     "output_type": "execute_result"
    }
   ],
   "source": [
    "business_df.hours.sample(5)"
   ]
  },
  {
   "cell_type": "code",
   "execution_count": 13,
   "metadata": {},
   "outputs": [
    {
     "data": {
      "text/plain": [
       "41344     {'ByAppointmentOnly': 'True', 'BusinessAccepts...\n",
       "102900    {'GoodForKids': 'True', 'ByAppointmentOnly': '...\n",
       "15244     {'ByAppointmentOnly': 'False', 'BusinessParkin...\n",
       "121831    {'RestaurantsPriceRange2': '2', 'WiFi': 'u'fre...\n",
       "144618    {'RestaurantsPriceRange2': '1', 'BusinessParki...\n",
       "Name: attributes, dtype: object"
      ]
     },
     "execution_count": 13,
     "metadata": {},
     "output_type": "execute_result"
    }
   ],
   "source": [
    "business_df.attributes.sample(5)"
   ]
  },
  {
   "cell_type": "code",
   "execution_count": 14,
   "metadata": {},
   "outputs": [
    {
     "data": {
      "text/plain": [
       "{NoneType, dict}"
      ]
     },
     "execution_count": 14,
     "metadata": {},
     "output_type": "execute_result"
    }
   ],
   "source": [
    "open_object_dtype(business_df.hours)\n",
    "open_object_dtype(business_df.attributes)"
   ]
  },
  {
   "attachments": {},
   "cell_type": "markdown",
   "metadata": {},
   "source": [
    "Các cột có chứa giá trị thiếu bao gồm: categories, hours, attributes. Phần hours với attributes thì có thể tạm chấp nhận bỏ qua nhưng categories nếu thiếu thì hơi khó trong việc nhận diện loại dịch vụ. Vì vậy em sẽ bỏ những dòng thiếu cột này."
   ]
  },
  {
   "cell_type": "code",
   "execution_count": 15,
   "metadata": {},
   "outputs": [],
   "source": [
    "business_df.dropna(axis=0, subset=['categories'], inplace=True)"
   ]
  },
  {
   "attachments": {},
   "cell_type": "markdown",
   "metadata": {},
   "source": [
    "categories là object (string) được lưu theo kiểu liệt kê."
   ]
  },
  {
   "cell_type": "code",
   "execution_count": 16,
   "metadata": {},
   "outputs": [
    {
     "data": {
      "text/plain": [
       "{str}"
      ]
     },
     "execution_count": 16,
     "metadata": {},
     "output_type": "execute_result"
    }
   ],
   "source": [
    "open_object_dtype(business_df.categories)"
   ]
  },
  {
   "cell_type": "code",
   "execution_count": 17,
   "metadata": {},
   "outputs": [
    {
     "data": {
      "text/plain": [
       "29412                     Massage Therapy, Health & Medical\n",
       "138607    Colleges & Universities, Self Storage, Educati...\n",
       "80960                                  Restaurants, Mexican\n",
       "95296     Transmission Repair, Auto Parts & Supplies, Au...\n",
       "76097     Auto Customization, Auto Repair, Auto Detailin...\n",
       "Name: categories, dtype: object"
      ]
     },
     "execution_count": 17,
     "metadata": {},
     "output_type": "execute_result"
    }
   ],
   "source": [
    "business_df.categories.sample(5)"
   ]
  },
  {
   "attachments": {},
   "cell_type": "markdown",
   "metadata": {},
   "source": [
    "Ban đầu mục tiêu cho chủ đề em chọn là nhà hàng, mà các miền giá trị của categories sẽ gồm các record em không cần. Nên em sẽ giữ lại những record có categories gồm nhà hàng."
   ]
  },
  {
   "cell_type": "code",
   "execution_count": 18,
   "metadata": {},
   "outputs": [
    {
     "data": {
      "text/plain": [
       "Restaurants            52268\n",
       "Food                   27781\n",
       "Shopping               24395\n",
       "Home Services          14356\n",
       "Beauty & Spas          14292\n",
       "                       ...  \n",
       "Props                      1\n",
       "Fuel Docks                 1\n",
       "Conveyor Belt Sushi        1\n",
       "Town Hall                  1\n",
       "Hepatologists              1\n",
       "Name: categories, Length: 1311, dtype: int64"
      ]
     },
     "execution_count": 18,
     "metadata": {},
     "output_type": "execute_result"
    }
   ],
   "source": [
    "# Hiển thị range của categories\n",
    "business_df.assign(categories = business_df.categories\n",
    "                         .str.split(', ')).explode('categories').categories.value_counts()  # tất cả các loại categories theo thứ tự value_count"
   ]
  },
  {
   "attachments": {},
   "cell_type": "markdown",
   "metadata": {},
   "source": [
    "Ta thấy rõ được trong số các hình thức cơ sở kinh doanh của Yelp thì nhà hàng chiếm số lượng tương đối lớn"
   ]
  },
  {
   "cell_type": "code",
   "execution_count": 19,
   "metadata": {},
   "outputs": [],
   "source": [
    "business_df = business_df[business_df.categories.str.contains('Restaurants')]"
   ]
  },
  {
   "cell_type": "code",
   "execution_count": 20,
   "metadata": {},
   "outputs": [
    {
     "data": {
      "text/plain": [
       "(52268, 14)"
      ]
     },
     "execution_count": 20,
     "metadata": {},
     "output_type": "execute_result"
    }
   ],
   "source": [
    "business_df.shape"
   ]
  },
  {
   "cell_type": "code",
   "execution_count": 21,
   "metadata": {},
   "outputs": [
    {
     "name": "stdout",
     "output_type": "stream",
     "text": [
      "['Restaurants' 'Food' 'Bubble Tea' 'Coffee & Tea' 'Bakeries' 'Burgers'\n",
      " 'Fast Food' 'Sandwiches' 'Ice Cream & Frozen Yogurt' 'Pubs']\n",
      "728\n",
      "True\n"
     ]
    }
   ],
   "source": [
    "res_list = business_df.assign(categories = business_df.categories\n",
    "                         .str.split(', ')).explode('categories').categories.unique()\n",
    "print(res_list[:10])  # Lấy 10 elements đầu tiên\n",
    "print(len(res_list))\n",
    "print('Vietnamese' in res_list)  # Kiểm tra xem có nhà hàng Việt Nam không"
   ]
  },
  {
   "attachments": {},
   "cell_type": "markdown",
   "metadata": {},
   "source": [
    "Cột is_open là kiểu numeric, nhưng thực chất là \"phân loại\" được viết dưới dạng số: 0 - đã đóng cửa, 1 - còn mở cửa. Em giữ lại những nhà hàng còn mở cửa vì những nhà hàng đóng cửa thì không thế đến ăn được."
   ]
  },
  {
   "cell_type": "code",
   "execution_count": 22,
   "metadata": {},
   "outputs": [],
   "source": [
    "business_df = business_df[business_df.is_open == 1]"
   ]
  },
  {
   "cell_type": "code",
   "execution_count": 23,
   "metadata": {},
   "outputs": [
    {
     "data": {
      "text/plain": [
       "(34987, 14)"
      ]
     },
     "execution_count": 23,
     "metadata": {},
     "output_type": "execute_result"
    }
   ],
   "source": [
    "business_df.shape"
   ]
  },
  {
   "attachments": {},
   "cell_type": "markdown",
   "metadata": {},
   "source": [
    "Miền giá trị của latitude, longitude và review_count"
   ]
  },
  {
   "cell_type": "code",
   "execution_count": 24,
   "metadata": {},
   "outputs": [
    {
     "data": {
      "text/html": [
       "<div>\n",
       "<style scoped>\n",
       "    .dataframe tbody tr th:only-of-type {\n",
       "        vertical-align: middle;\n",
       "    }\n",
       "\n",
       "    .dataframe tbody tr th {\n",
       "        vertical-align: top;\n",
       "    }\n",
       "\n",
       "    .dataframe thead th {\n",
       "        text-align: right;\n",
       "    }\n",
       "</style>\n",
       "<table border=\"1\" class=\"dataframe\">\n",
       "  <thead>\n",
       "    <tr style=\"text-align: right;\">\n",
       "      <th></th>\n",
       "      <th>latitude</th>\n",
       "      <th>longitude</th>\n",
       "      <th>review_count</th>\n",
       "    </tr>\n",
       "  </thead>\n",
       "  <tbody>\n",
       "    <tr>\n",
       "      <th>min</th>\n",
       "      <td>27.564457</td>\n",
       "      <td>-120.083748</td>\n",
       "      <td>5.0</td>\n",
       "    </tr>\n",
       "    <tr>\n",
       "      <th>max</th>\n",
       "      <td>53.679197</td>\n",
       "      <td>-74.680250</td>\n",
       "      <td>7568.0</td>\n",
       "    </tr>\n",
       "  </tbody>\n",
       "</table>\n",
       "</div>"
      ],
      "text/plain": [
       "      latitude   longitude  review_count\n",
       "min  27.564457 -120.083748           5.0\n",
       "max  53.679197  -74.680250        7568.0"
      ]
     },
     "execution_count": 24,
     "metadata": {},
     "output_type": "execute_result"
    }
   ],
   "source": [
    "min_series = business_df[['latitude', 'longitude', 'review_count']].min()\n",
    "max_series = business_df[['latitude', 'longitude', 'review_count']].max()\n",
    "pd.DataFrame([min_series, max_series], index=['min', 'max'])"
   ]
  },
  {
   "attachments": {},
   "cell_type": "markdown",
   "metadata": {},
   "source": [
    "## Reviews_df"
   ]
  },
  {
   "cell_type": "code",
   "execution_count": 25,
   "metadata": {},
   "outputs": [
    {
     "name": "stdout",
     "output_type": "stream",
     "text": [
      "<class 'pandas.core.frame.DataFrame'>\n",
      "RangeIndex: 6685900 entries, 0 to 6685899\n",
      "Data columns (total 4 columns):\n",
      " #   Column       Dtype  \n",
      "---  ------       -----  \n",
      " 0   date         object \n",
      " 1   review_id    object \n",
      " 2   business_id  object \n",
      " 3   stars        float64\n",
      "dtypes: float64(1), object(3)\n",
      "memory usage: 204.0+ MB\n"
     ]
    }
   ],
   "source": [
    "reviews_df.info()"
   ]
  },
  {
   "attachments": {},
   "cell_type": "markdown",
   "metadata": {},
   "source": [
    " **Thông tin về dtype:**"
   ]
  },
  {
   "cell_type": "code",
   "execution_count": 26,
   "metadata": {},
   "outputs": [
    {
     "name": "stdout",
     "output_type": "stream",
     "text": [
      "{<class 'str'>}\n",
      "{<class 'str'>}\n",
      "{<class 'str'>}\n"
     ]
    }
   ],
   "source": [
    "print(open_object_dtype(reviews_df.review_id))\n",
    "print(open_object_dtype(reviews_df.business_id))\n",
    "print(open_object_dtype(reviews_df.date))"
   ]
  },
  {
   "attachments": {},
   "cell_type": "markdown",
   "metadata": {},
   "source": [
    "Các cột object(string) có bị lỗi dạng b'\\<nội dung đúng>\\'. "
   ]
  },
  {
   "cell_type": "code",
   "execution_count": 27,
   "metadata": {},
   "outputs": [],
   "source": [
    "reviews_df.date = reviews_df.date.str.extract(r\"b\\'(.+)\\'\")"
   ]
  },
  {
   "cell_type": "code",
   "execution_count": 28,
   "metadata": {},
   "outputs": [],
   "source": [
    "reviews_df.review_id = reviews_df.review_id.str.extract(r\"b\\'(.+)\\'\")"
   ]
  },
  {
   "cell_type": "code",
   "execution_count": 29,
   "metadata": {},
   "outputs": [],
   "source": [
    "reviews_df.business_id = reviews_df.business_id.str.extract(r\"b\\'(.+)\\'\")"
   ]
  },
  {
   "cell_type": "code",
   "execution_count": 30,
   "metadata": {},
   "outputs": [
    {
     "data": {
      "text/html": [
       "<div>\n",
       "<style scoped>\n",
       "    .dataframe tbody tr th:only-of-type {\n",
       "        vertical-align: middle;\n",
       "    }\n",
       "\n",
       "    .dataframe tbody tr th {\n",
       "        vertical-align: top;\n",
       "    }\n",
       "\n",
       "    .dataframe thead th {\n",
       "        text-align: right;\n",
       "    }\n",
       "</style>\n",
       "<table border=\"1\" class=\"dataframe\">\n",
       "  <thead>\n",
       "    <tr style=\"text-align: right;\">\n",
       "      <th></th>\n",
       "      <th>date</th>\n",
       "      <th>review_id</th>\n",
       "      <th>business_id</th>\n",
       "      <th>stars</th>\n",
       "    </tr>\n",
       "  </thead>\n",
       "  <tbody>\n",
       "    <tr>\n",
       "      <th>0</th>\n",
       "      <td>2013-05-07 04:34:36</td>\n",
       "      <td>Q1sbwvVQXV2734tPgoKj4Q</td>\n",
       "      <td>ujmEBvifdJM6h6RLv4wQIg</td>\n",
       "      <td>1.0</td>\n",
       "    </tr>\n",
       "    <tr>\n",
       "      <th>1</th>\n",
       "      <td>2017-01-14 21:30:33</td>\n",
       "      <td>GJXCdrto3ASJOqKeVWPi6Q</td>\n",
       "      <td>NZnhc2sEQy3RmzKTZnqtwQ</td>\n",
       "      <td>5.0</td>\n",
       "    </tr>\n",
       "    <tr>\n",
       "      <th>2</th>\n",
       "      <td>2016-11-09 20:09:03</td>\n",
       "      <td>2TzJjDVDEuAW6MR5Vuc1ug</td>\n",
       "      <td>WTqjgwHlXbSFevF32_DJVw</td>\n",
       "      <td>5.0</td>\n",
       "    </tr>\n",
       "    <tr>\n",
       "      <th>3</th>\n",
       "      <td>2018-01-09 20:56:38</td>\n",
       "      <td>yi0R0Ugj_xUx_Nek0-_Qig</td>\n",
       "      <td>ikCg8xy5JIg_NGPx-MSIDA</td>\n",
       "      <td>5.0</td>\n",
       "    </tr>\n",
       "    <tr>\n",
       "      <th>4</th>\n",
       "      <td>2018-01-30 23:07:38</td>\n",
       "      <td>11a8sVPMUFtaC7_ABRkmtw</td>\n",
       "      <td>b1b1eb3uo-w561D0ZfCEiQ</td>\n",
       "      <td>1.0</td>\n",
       "    </tr>\n",
       "  </tbody>\n",
       "</table>\n",
       "</div>"
      ],
      "text/plain": [
       "                  date               review_id             business_id  stars\n",
       "0  2013-05-07 04:34:36  Q1sbwvVQXV2734tPgoKj4Q  ujmEBvifdJM6h6RLv4wQIg    1.0\n",
       "1  2017-01-14 21:30:33  GJXCdrto3ASJOqKeVWPi6Q  NZnhc2sEQy3RmzKTZnqtwQ    5.0\n",
       "2  2016-11-09 20:09:03  2TzJjDVDEuAW6MR5Vuc1ug  WTqjgwHlXbSFevF32_DJVw    5.0\n",
       "3  2018-01-09 20:56:38  yi0R0Ugj_xUx_Nek0-_Qig  ikCg8xy5JIg_NGPx-MSIDA    5.0\n",
       "4  2018-01-30 23:07:38  11a8sVPMUFtaC7_ABRkmtw  b1b1eb3uo-w561D0ZfCEiQ    1.0"
      ]
     },
     "execution_count": 30,
     "metadata": {},
     "output_type": "execute_result"
    }
   ],
   "source": [
    "reviews_df.head()"
   ]
  },
  {
   "attachments": {},
   "cell_type": "markdown",
   "metadata": {},
   "source": [
    "Cột date cần đổi sang datetime"
   ]
  },
  {
   "cell_type": "code",
   "execution_count": 31,
   "metadata": {},
   "outputs": [],
   "source": [
    "reviews_df['date'] = pd.to_datetime(reviews_df['date'], format='%Y-%m-%d %H:%M:%S')"
   ]
  },
  {
   "attachments": {},
   "cell_type": "markdown",
   "metadata": {},
   "source": [
    "Xem miền giá trị của date"
   ]
  },
  {
   "cell_type": "code",
   "execution_count": 32,
   "metadata": {},
   "outputs": [
    {
     "data": {
      "text/plain": [
       "(Timestamp('2004-10-12 10:13:32'), Timestamp('2018-11-14 18:13:26'))"
      ]
     },
     "execution_count": 32,
     "metadata": {},
     "output_type": "execute_result"
    }
   ],
   "source": [
    "reviews_df.date.min(), reviews_df.date.max()"
   ]
  },
  {
   "attachments": {},
   "cell_type": "markdown",
   "metadata": {},
   "source": [
    "# Các câu hỏi cần trả lời"
   ]
  },
  {
   "attachments": {},
   "cell_type": "markdown",
   "metadata": {},
   "source": [
    "Sau khi tiền xử lý, khám phá data thì em có một số câu hỏi có thể trả lời được bằng dữ liệu.\n",
    "\n",
    "- Câu hỏi 1: \n",
    "Nhà hàng Châu Á chiếm số tỷ lệ như thế nào trong thị trường nhà hàng ở Mỹ theo từng bang (thống kê của 5 bang có nhiều nhà hàng nhất)?\n",
    "\n",
    "Để trả lời câu hỏi này theo em có thể cảm nhận được món Châu Á (ở đây em sẽ lấy bao gồm: món Việt, món Thái, món Nhật, món Hàn, món Trung, món Singapore, món Ấn) đang nằm khoảng bao nhiêu phần trăm trong sự lựa chọn của người dân, cụ thể là người dân ở 5 bang với số lượng nhà hàng nhiều nhất. Từ đó, ta có thể biết hơn tầm ảnh hưởng của ẩm thực, văn hóa châu Á nói chung và Việt Nam nói riêng đóng góp như thế nào trong nền ẩm thực đa dạng ở đây (dưới góc độ số lượng nhà hàng).\n",
    "\n",
    "- Câu hỏi 2:\n",
    "Lượng review của người dùng cho các nhà hàng theo từng tháng thay đổi như thế nào?\n",
    "\n",
    "Trả lời được câu hỏi này nhìn chung ta có thể biết được thói quen ăn uống ở nhà hàng theo từng tháng ở Mỹ sẽ như thế nào? Tần suất như thế nào (nhiều hay ít)? Về phía nhà hàng (hoặc người dự định mở nhà hàng) nhìn vào có thể tính toán thời điểm, chiến lược kinh doanh sao cho hiểu quả đáp ứng được tiềm năng, nhu cầu đi ăn tiệm của khách hàng. Về phía khách hàng, nhờ vào việc biết những thời điểm nào \"đông\" hay \"vắng\" của nhà hàng mà khách hàng có thể lựa chọn thời điểm thích hợp trong năm để đi ăn. Còn với đối tượng muốn đi làm part-time hoặc full-time ở nhà hàng thì nên lựa thời điểm nào phù hợp để bắt đầu. Hoặc những nhân viên ở nhà hàng muốn chọn thời điểm để nghỉ.\n",
    "\n",
    " "
   ]
  },
  {
   "attachments": {},
   "cell_type": "markdown",
   "metadata": {},
   "source": [
    "# TRẢ LỜI TỪNG CÂU HỎI"
   ]
  },
  {
   "attachments": {},
   "cell_type": "markdown",
   "metadata": {},
   "source": [
    "### Nhà hàng Châu Á chiếm số tỷ lệ như thế nào trong thị trường nhà hàng ở Mỹ, Canada theo từng bang (cụ thể là thống kê của 5 bang có nhiều nhà hàng nhất)?"
   ]
  },
  {
   "attachments": {},
   "cell_type": "markdown",
   "metadata": {},
   "source": [
    "Em sẽ thực hiện theo từng bước sau:\n",
    "\n",
    "   - Tính sổ lượng nhà hàng của các bang Mỹ-Canada và lấy ra 5 bang nhiều nhà hàng nhất bỏ vào trong `res_by_state_df`\n",
    "\n",
    "   - Khi có kết quả ở bước 1. Lấy ra những cửa hàng thuộc loại châu Á (Việt Nam, Thái Lan, Nhật, Hàn Quốc, Trung Quóc, Singaporean, Ấn Độ) và tính số lượng cửa hàng của từng loại theo bang 5 bang nhiều nhà hàng nhất\n",
    "\n",
    "   - Tính tỷ lệ của từng loại nhà hàng lên tổng số nhà hàng theo 5 bang và vẽ đồ thị để quan sát"
   ]
  },
  {
   "cell_type": "code",
   "execution_count": 33,
   "metadata": {},
   "outputs": [
    {
     "data": {
      "text/plain": [
       "state\n",
       "PA    8069\n",
       "FL    5920\n",
       "TN    3030\n",
       "IN    2836\n",
       "MO    2723\n",
       "Name: business_id, dtype: int64"
      ]
     },
     "execution_count": 33,
     "metadata": {},
     "output_type": "execute_result"
    }
   ],
   "source": [
    "res_by_state_df = business_df.groupby(['state'])['business_id'].agg('count').sort_values(ascending=False)[:5]\n",
    "res_by_state_df"
   ]
  },
  {
   "cell_type": "code",
   "execution_count": 34,
   "metadata": {},
   "outputs": [],
   "source": [
    "df = business_df\n",
    "df_explode = df.assign(categories = df.categories.str.split(', ')).explode('categories')\n",
    "asian_res_df = df_explode[df_explode['categories'].str.contains('Vietnamese|Thai|Japanese|Korean|Chinese|Singaporean|Indian', case=True, na=False)]\n",
    "asian_res_by_state_series = asian_res_df.groupby(['state','categories'])['business_id'].agg('count')"
   ]
  },
  {
   "cell_type": "code",
   "execution_count": 35,
   "metadata": {},
   "outputs": [
    {
     "data": {
      "text/plain": [
       "state  categories    \n",
       "PA     Chinese           0.077953\n",
       "       Indian            0.017350\n",
       "       Japanese          0.039782\n",
       "       Japanese Curry    0.000496\n",
       "       Korean            0.012269\n",
       "       Singaporean       0.000372\n",
       "       Thai              0.018342\n",
       "       Vietnamese        0.013013\n",
       "FL     Chinese           0.056757\n",
       "       Indian            0.008446\n",
       "       Japanese          0.031250\n",
       "       Japanese Curry    0.000338\n",
       "       Korean            0.004730\n",
       "       Thai              0.021791\n",
       "       Vietnamese        0.012838\n",
       "TN     Chinese           0.046535\n",
       "       Indian            0.008911\n",
       "       Japanese          0.031023\n",
       "       Japanese Curry    0.000330\n",
       "       Korean            0.006601\n",
       "       Singaporean       0.000330\n",
       "       Thai              0.021452\n",
       "       Vietnamese        0.008251\n",
       "IN     Chinese           0.054654\n",
       "       Indian            0.013752\n",
       "       Japanese          0.027856\n",
       "       Korean            0.005994\n",
       "       Thai              0.016573\n",
       "       Vietnamese        0.007405\n",
       "MO     Chinese           0.072714\n",
       "       Indian            0.011017\n",
       "       Japanese          0.019831\n",
       "       Korean            0.012119\n",
       "       Thai              0.013955\n",
       "       Vietnamese        0.009916\n",
       "Name: business_id, dtype: float64"
      ]
     },
     "execution_count": 35,
     "metadata": {},
     "output_type": "execute_result"
    }
   ],
   "source": [
    "asian_res_by_state_series = asian_res_by_state_series.loc[res_by_state_df.index]  # 5 bang có nhiều nhà hàng nhất \n",
    "ratio_asian_res_by_state_series = asian_res_by_state_series / res_by_state_df\n",
    "ratio_asian_res_by_state_series"
   ]
  },
  {
   "cell_type": "code",
   "execution_count": 36,
   "metadata": {},
   "outputs": [
    {
     "data": {
      "image/png": "[encoded data removed]",
      "text/plain": [
       "<Figure size 1000x600 with 1 Axes>"
      ]
     },
     "metadata": {},
     "output_type": "display_data"
    }
   ],
   "source": [
    "ax = ratio_asian_res_by_state_series.unstack().plot(kind='bar', figsize=(10, 6), y=[\"Vietnamese\", \"Thai\", \"Japanese\", \"Korean\", \"Chinese\", \"Singaporean\", \"Indian\"], rot=0, stacked=True)\n",
    "ax.set_ylabel('proportion')\n",
    "ax.set_ylim((0,1))\n",
    "ax.set_title('Proportion of Asian restaurants to total restaurants in top 5 restaurant-located states in the US and Canada');"
   ]
  },
  {
   "attachments": {},
   "cell_type": "markdown",
   "metadata": {},
   "source": [
    "Nhà hàng châu Á đang xét trong 5 bang chiếm tù 15% đến 20% tổng số nhà hàng. \n",
    "\n",
    "Ta thấy 2 bang Pennsylvania(PA) và Missouri(MO) số lượng nhà hàng Châu Á chiếm khá đáng kể. Các món ăn Trung Quốc vẫn luôn được là sự chọn đông đảo tại 5 bang nhiều nhà hàng châu Á nhất. Các nhà hàng Trung Quốc chiếm khoảng 50 phần trăm trong số các nhà hàng châu Á. Tiếp theo nhà hàng nhật bản chiếm khoảng hơn 20% trong số các nhà hàng châu á nhiều nhất. Nền văn hoá ẩm thực đến từ 3 quốc gia Việt Nam, Thái Lan, Hàn chiếm khoảng 10%. \n",
    "Qua đó ta có thể thấy nền ẩm thực châu Á chiếm phần trăm không ít trong văn hoá ăn uống của các nước phương Tây. Bởi dân châu Á chiếm 28% trong các nước ở châu Á nên việc các món ăn phương Đông tại các nhà hàng chiếm 20% là điều không quá bất ngờ"
   ]
  },
  {
   "attachments": {},
   "cell_type": "markdown",
   "metadata": {},
   "source": [
    "### Lượng reviews của người dùng cho các nhà hàng theo từng tháng thay đổi như thế nào?"
   ]
  },
  {
   "attachments": {},
   "cell_type": "markdown",
   "metadata": {},
   "source": [
    "Em sẽ thực hiện theo các bước sau:\n",
    "\n",
    "- Thêm 2 cột year và month vào reviews_df.\n",
    "\n",
    "- Lấy ra những dòng có year mà năm gần nhất. \n",
    "\n",
    "- Tính dataframe `num_reviews_each_month_df` gồm có 5 cột ứng với số lượng review theo các tháng của 5 năm (2014, 2015, 2016, 2017, 2018), 12 dòng ứng với 12 tháng.\n",
    "\n",
    "- Vẽ biểu đồ đường dạng line."
   ]
  },
  {
   "cell_type": "code",
   "execution_count": 37,
   "metadata": {},
   "outputs": [],
   "source": [
    "df = reviews_df\n",
    "df['year'] = df['date'].dt.year\n",
    "df['month'] = df['date'].dt.month"
   ]
  },
  {
   "cell_type": "code",
   "execution_count": 38,
   "metadata": {},
   "outputs": [],
   "source": [
    "max_year = df['year'].max()\n",
    "df = df[max_year - df['year'] < 5]"
   ]
  },
  {
   "cell_type": "code",
   "execution_count": 39,
   "metadata": {},
   "outputs": [
    {
     "data": {
      "text/html": [
       "<div>\n",
       "<style scoped>\n",
       "    .dataframe tbody tr th:only-of-type {\n",
       "        vertical-align: middle;\n",
       "    }\n",
       "\n",
       "    .dataframe tbody tr th {\n",
       "        vertical-align: top;\n",
       "    }\n",
       "\n",
       "    .dataframe thead th {\n",
       "        text-align: right;\n",
       "    }\n",
       "</style>\n",
       "<table border=\"1\" class=\"dataframe\">\n",
       "  <thead>\n",
       "    <tr style=\"text-align: right;\">\n",
       "      <th>year</th>\n",
       "      <th>2014</th>\n",
       "      <th>2015</th>\n",
       "      <th>2016</th>\n",
       "      <th>2017</th>\n",
       "      <th>2018</th>\n",
       "    </tr>\n",
       "    <tr>\n",
       "      <th>month</th>\n",
       "      <th></th>\n",
       "      <th></th>\n",
       "      <th></th>\n",
       "      <th></th>\n",
       "      <th></th>\n",
       "    </tr>\n",
       "  </thead>\n",
       "  <tbody>\n",
       "    <tr>\n",
       "      <th>1</th>\n",
       "      <td>51147.0</td>\n",
       "      <td>71849.0</td>\n",
       "      <td>89995.0</td>\n",
       "      <td>94457.0</td>\n",
       "      <td>104640.0</td>\n",
       "    </tr>\n",
       "    <tr>\n",
       "      <th>2</th>\n",
       "      <td>47114.0</td>\n",
       "      <td>66395.0</td>\n",
       "      <td>88004.0</td>\n",
       "      <td>90085.0</td>\n",
       "      <td>100004.0</td>\n",
       "    </tr>\n",
       "    <tr>\n",
       "      <th>3</th>\n",
       "      <td>54939.0</td>\n",
       "      <td>78035.0</td>\n",
       "      <td>93927.0</td>\n",
       "      <td>102373.0</td>\n",
       "      <td>119213.0</td>\n",
       "    </tr>\n",
       "    <tr>\n",
       "      <th>4</th>\n",
       "      <td>54817.0</td>\n",
       "      <td>75784.0</td>\n",
       "      <td>92886.0</td>\n",
       "      <td>102205.0</td>\n",
       "      <td>115534.0</td>\n",
       "    </tr>\n",
       "    <tr>\n",
       "      <th>5</th>\n",
       "      <td>58075.0</td>\n",
       "      <td>80100.0</td>\n",
       "      <td>94926.0</td>\n",
       "      <td>104915.0</td>\n",
       "      <td>115846.0</td>\n",
       "    </tr>\n",
       "    <tr>\n",
       "      <th>6</th>\n",
       "      <td>58963.0</td>\n",
       "      <td>82515.0</td>\n",
       "      <td>96589.0</td>\n",
       "      <td>105827.0</td>\n",
       "      <td>116064.0</td>\n",
       "    </tr>\n",
       "    <tr>\n",
       "      <th>7</th>\n",
       "      <td>69440.0</td>\n",
       "      <td>90838.0</td>\n",
       "      <td>104258.0</td>\n",
       "      <td>116050.0</td>\n",
       "      <td>126571.0</td>\n",
       "    </tr>\n",
       "    <tr>\n",
       "      <th>8</th>\n",
       "      <td>69443.0</td>\n",
       "      <td>92089.0</td>\n",
       "      <td>99052.0</td>\n",
       "      <td>111431.0</td>\n",
       "      <td>120381.0</td>\n",
       "    </tr>\n",
       "    <tr>\n",
       "      <th>9</th>\n",
       "      <td>60443.0</td>\n",
       "      <td>80668.0</td>\n",
       "      <td>89115.0</td>\n",
       "      <td>102393.0</td>\n",
       "      <td>103980.0</td>\n",
       "    </tr>\n",
       "    <tr>\n",
       "      <th>10</th>\n",
       "      <td>61788.0</td>\n",
       "      <td>82188.0</td>\n",
       "      <td>87117.0</td>\n",
       "      <td>100556.0</td>\n",
       "      <td>103643.0</td>\n",
       "    </tr>\n",
       "    <tr>\n",
       "      <th>11</th>\n",
       "      <td>58920.0</td>\n",
       "      <td>76795.0</td>\n",
       "      <td>79423.0</td>\n",
       "      <td>94266.0</td>\n",
       "      <td>51786.0</td>\n",
       "    </tr>\n",
       "    <tr>\n",
       "      <th>12</th>\n",
       "      <td>59773.0</td>\n",
       "      <td>75144.0</td>\n",
       "      <td>83494.0</td>\n",
       "      <td>93115.0</td>\n",
       "      <td>NaN</td>\n",
       "    </tr>\n",
       "  </tbody>\n",
       "</table>\n",
       "</div>"
      ],
      "text/plain": [
       "year      2014     2015      2016      2017      2018\n",
       "month                                                \n",
       "1      51147.0  71849.0   89995.0   94457.0  104640.0\n",
       "2      47114.0  66395.0   88004.0   90085.0  100004.0\n",
       "3      54939.0  78035.0   93927.0  102373.0  119213.0\n",
       "4      54817.0  75784.0   92886.0  102205.0  115534.0\n",
       "5      58075.0  80100.0   94926.0  104915.0  115846.0\n",
       "6      58963.0  82515.0   96589.0  105827.0  116064.0\n",
       "7      69440.0  90838.0  104258.0  116050.0  126571.0\n",
       "8      69443.0  92089.0   99052.0  111431.0  120381.0\n",
       "9      60443.0  80668.0   89115.0  102393.0  103980.0\n",
       "10     61788.0  82188.0   87117.0  100556.0  103643.0\n",
       "11     58920.0  76795.0   79423.0   94266.0   51786.0\n",
       "12     59773.0  75144.0   83494.0   93115.0       NaN"
      ]
     },
     "execution_count": 39,
     "metadata": {},
     "output_type": "execute_result"
    }
   ],
   "source": [
    "num_reviews_each_month_df = df.groupby(['year','month'])['review_id'].count().unstack(level='year')\n",
    "num_reviews_each_month_df"
   ]
  },
  {
   "attachments": {},
   "cell_type": "markdown",
   "metadata": {},
   "source": [
    "Do ngày cuối cùng trong dữ liệu của reviews là 14-11-2018 nên nếu lấy cả tháng 11 thì sẽ không đủ, vì vậy nên em sẽ không lấy dữ liệu của tháng 11."
   ]
  },
  {
   "cell_type": "code",
   "execution_count": 40,
   "metadata": {},
   "outputs": [
    {
     "data": {
      "text/html": [
       "<div>\n",
       "<style scoped>\n",
       "    .dataframe tbody tr th:only-of-type {\n",
       "        vertical-align: middle;\n",
       "    }\n",
       "\n",
       "    .dataframe tbody tr th {\n",
       "        vertical-align: top;\n",
       "    }\n",
       "\n",
       "    .dataframe thead th {\n",
       "        text-align: right;\n",
       "    }\n",
       "</style>\n",
       "<table border=\"1\" class=\"dataframe\">\n",
       "  <thead>\n",
       "    <tr style=\"text-align: right;\">\n",
       "      <th>year</th>\n",
       "      <th>2014</th>\n",
       "      <th>2015</th>\n",
       "      <th>2016</th>\n",
       "      <th>2017</th>\n",
       "      <th>2018</th>\n",
       "    </tr>\n",
       "    <tr>\n",
       "      <th>month</th>\n",
       "      <th></th>\n",
       "      <th></th>\n",
       "      <th></th>\n",
       "      <th></th>\n",
       "      <th></th>\n",
       "    </tr>\n",
       "  </thead>\n",
       "  <tbody>\n",
       "    <tr>\n",
       "      <th>1</th>\n",
       "      <td>51147.0</td>\n",
       "      <td>71849.0</td>\n",
       "      <td>89995.0</td>\n",
       "      <td>94457.0</td>\n",
       "      <td>104640.0</td>\n",
       "    </tr>\n",
       "    <tr>\n",
       "      <th>2</th>\n",
       "      <td>47114.0</td>\n",
       "      <td>66395.0</td>\n",
       "      <td>88004.0</td>\n",
       "      <td>90085.0</td>\n",
       "      <td>100004.0</td>\n",
       "    </tr>\n",
       "    <tr>\n",
       "      <th>3</th>\n",
       "      <td>54939.0</td>\n",
       "      <td>78035.0</td>\n",
       "      <td>93927.0</td>\n",
       "      <td>102373.0</td>\n",
       "      <td>119213.0</td>\n",
       "    </tr>\n",
       "    <tr>\n",
       "      <th>4</th>\n",
       "      <td>54817.0</td>\n",
       "      <td>75784.0</td>\n",
       "      <td>92886.0</td>\n",
       "      <td>102205.0</td>\n",
       "      <td>115534.0</td>\n",
       "    </tr>\n",
       "    <tr>\n",
       "      <th>5</th>\n",
       "      <td>58075.0</td>\n",
       "      <td>80100.0</td>\n",
       "      <td>94926.0</td>\n",
       "      <td>104915.0</td>\n",
       "      <td>115846.0</td>\n",
       "    </tr>\n",
       "    <tr>\n",
       "      <th>6</th>\n",
       "      <td>58963.0</td>\n",
       "      <td>82515.0</td>\n",
       "      <td>96589.0</td>\n",
       "      <td>105827.0</td>\n",
       "      <td>116064.0</td>\n",
       "    </tr>\n",
       "    <tr>\n",
       "      <th>7</th>\n",
       "      <td>69440.0</td>\n",
       "      <td>90838.0</td>\n",
       "      <td>104258.0</td>\n",
       "      <td>116050.0</td>\n",
       "      <td>126571.0</td>\n",
       "    </tr>\n",
       "    <tr>\n",
       "      <th>8</th>\n",
       "      <td>69443.0</td>\n",
       "      <td>92089.0</td>\n",
       "      <td>99052.0</td>\n",
       "      <td>111431.0</td>\n",
       "      <td>120381.0</td>\n",
       "    </tr>\n",
       "    <tr>\n",
       "      <th>9</th>\n",
       "      <td>60443.0</td>\n",
       "      <td>80668.0</td>\n",
       "      <td>89115.0</td>\n",
       "      <td>102393.0</td>\n",
       "      <td>103980.0</td>\n",
       "    </tr>\n",
       "    <tr>\n",
       "      <th>10</th>\n",
       "      <td>61788.0</td>\n",
       "      <td>82188.0</td>\n",
       "      <td>87117.0</td>\n",
       "      <td>100556.0</td>\n",
       "      <td>103643.0</td>\n",
       "    </tr>\n",
       "    <tr>\n",
       "      <th>11</th>\n",
       "      <td>58920.0</td>\n",
       "      <td>76795.0</td>\n",
       "      <td>79423.0</td>\n",
       "      <td>94266.0</td>\n",
       "      <td>NaN</td>\n",
       "    </tr>\n",
       "    <tr>\n",
       "      <th>12</th>\n",
       "      <td>59773.0</td>\n",
       "      <td>75144.0</td>\n",
       "      <td>83494.0</td>\n",
       "      <td>93115.0</td>\n",
       "      <td>NaN</td>\n",
       "    </tr>\n",
       "  </tbody>\n",
       "</table>\n",
       "</div>"
      ],
      "text/plain": [
       "year      2014     2015      2016      2017      2018\n",
       "month                                                \n",
       "1      51147.0  71849.0   89995.0   94457.0  104640.0\n",
       "2      47114.0  66395.0   88004.0   90085.0  100004.0\n",
       "3      54939.0  78035.0   93927.0  102373.0  119213.0\n",
       "4      54817.0  75784.0   92886.0  102205.0  115534.0\n",
       "5      58075.0  80100.0   94926.0  104915.0  115846.0\n",
       "6      58963.0  82515.0   96589.0  105827.0  116064.0\n",
       "7      69440.0  90838.0  104258.0  116050.0  126571.0\n",
       "8      69443.0  92089.0   99052.0  111431.0  120381.0\n",
       "9      60443.0  80668.0   89115.0  102393.0  103980.0\n",
       "10     61788.0  82188.0   87117.0  100556.0  103643.0\n",
       "11     58920.0  76795.0   79423.0   94266.0       NaN\n",
       "12     59773.0  75144.0   83494.0   93115.0       NaN"
      ]
     },
     "execution_count": 40,
     "metadata": {},
     "output_type": "execute_result"
    }
   ],
   "source": [
    "num_reviews_each_month_df.loc[11,2018] = np.NaN\n",
    "num_reviews_each_month_df"
   ]
  },
  {
   "cell_type": "code",
   "execution_count": 41,
   "metadata": {},
   "outputs": [
    {
     "data": {
      "image/png": "[encoded data removed]",
      "text/plain": [
       "<Figure size 640x480 with 1 Axes>"
      ]
     },
     "metadata": {},
     "output_type": "display_data"
    }
   ],
   "source": [
    "num_reviews_each_month_df.plot.line(marker='o')\n",
    "plt.ylabel('Number of Reviews');\n",
    "plt.xticks(range(1,13));"
   ]
  },
  {
   "attachments": {},
   "cell_type": "markdown",
   "metadata": {},
   "source": [
    "Việc đi ăn xong rồi review ở ngoài của người Mỹ là thay đổi theo từng tháng và đi theo một khuôn mẫu nhất định từng năm, đặc biệt là tháng 11 năm 2018 giảm mạnh, sau đó là hết dữ liệu, đạt ít nhất vào giai đoạn cuối năm trước đến đầu năm sau ( chạm đáy vào tháng 2 hay tháng 11) và tăng lên nhiều nhất vào các tháng mùa hè (nhất là tháng 7)."
   ]
  },
  {
   "attachments": {},
   "cell_type": "markdown",
   "metadata": {},
   "source": [
    "Theo ý kiến cá nhân của em, dựa vào một bài đăng bởi Nicole Georgiev trên Bluecart, vào thời điểm nhà hàng trở nên đông khách và bận rộn nhất là từ tháng 4 đến tháng 9. Hoặc đối với Denise Dayton viết trên bizfluent, mùa hè thường có thời tiết mát mẻ và một số ngày lễ lớn như ngày Quốc khánh của Mỹ, đồng thời các nhà hàng cũng có những ưu đãi như giảm giá hoặc khuyến mãi để làm tăng nhu cầu đi ăn của khách hàng.\n",
    "\n",
    "Còn đối với những tháng cuối năm thì đa số các hộ gia đình thường có xu hướng đoàn tụ ở nhà sau một năm làm việc vất vả, hoặc là họ tiết kiệm tiền để đi mua sắm cuối năm. Nhưng suy cho cùng thì đó cũng là ý kiến cũng như cái nhìn chủ quan của em. \n",
    "\n",
    "Link hai bài đăng: (https://bizfluent.com/how-7795814-calculate-seat-turnover.html), (https://www.bluecart.com/blog/busy-restaurant-season#:~:text=In%20the%20restaurant%20industry%2C%20the,to%20determining%20the%20busy%20season.)   "
   ]
  },
  {
   "attachments": {},
   "cell_type": "markdown",
   "metadata": {},
   "source": [
    "## NHÌN LẠI QUÁ TRÌNH"
   ]
  },
  {
   "attachments": {},
   "cell_type": "markdown",
   "metadata": {},
   "source": [
    "### THUẬN LỢI, KHÓ KHĂN"
   ]
  },
  {
   "attachments": {},
   "cell_type": "markdown",
   "metadata": {},
   "source": [
    "- Đồ án này làm em cảm thấy khá hài lòng, mặc dù chắc chắn sẽ có nhiều thiếu sót trong lúc thực hiện.\n",
    "\n",
    "- Khi lựa chọn dataset thì em có search được vài cái, nhưng một số chúng lại có quá ít thông tin nên em không thể tối ưu được lợi thế của pandas. Trong lúc tìm kiếm thì Kaggle lại recommend dataset của Yelp nên em ấn vào xem và quyết định chọn nó để làm đồ án.  \n",
    "\n",
    "- Tải dataset gần 10GB, em phải tốn gần 3 đến 4 tiếng mới có thể tải được về máy vì nó quá nặng nên thành ra dẫn đến việc đơ máy. Khi đọc data thì lâu lâu máy lại bị đơ, reset by force. May mắn file reviews có file reviews.csv nên tiết kiệm được thời gian, dù còn một số sai sót về định dạng. \n",
    "\n",
    "- Phần đặt câu hỏi: Lúc đầu cũng khá khó đối với em khi suy nghĩ ra câu hỏi và cách trả lời"
   ]
  },
  {
   "attachments": {},
   "cell_type": "markdown",
   "metadata": {},
   "source": [
    "### NHỮNG ĐIỀU CẦN HỌC HỎI"
   ]
  },
  {
   "attachments": {},
   "cell_type": "markdown",
   "metadata": {},
   "source": [
    "Sau khi hoàn thành đồ án, em học hỏi được một vài điều sau:\n",
    "\n",
    "- Vận dụng kiến thức đã học, cách tạo notebook, cách code, lên ý tưởng  \n",
    "\n",
    "- Ap dụng lên dữ liệu, giải quyết bài toán từ dữ liệu theo hướng dẫn của các thầy.\n",
    "\n",
    "- Cảm nhận rõ quy trình khoa học dữ liệu, làm quen với những khó khăn và cách xử lý. "
   ]
  },
  {
   "attachments": {},
   "cell_type": "markdown",
   "metadata": {},
   "source": [
    "## NẾU CÓ THỜI GIAN SẼ LÀM THÊM GÌ?"
   ]
  },
  {
   "attachments": {},
   "cell_type": "markdown",
   "metadata": {},
   "source": [
    "Nếu có thời gian thêm thì em sẽ cố gắng tìm cách đọc được toàn bộ file reviews, kể cả những cột em bỏ để tránh đơ máy, một trong số đó là cột text. Cột text chứa thông tin đánh giá cực kỳ quan trọng nếu muốn phân tích quan điểm, khen/chê, món nổi bật của quán,... Cho nên nếu đọc được text của hơn 6 triệu review em nghĩ sẽ có thể làm được và biết thêm một vài điều mới."
   ]
  },
  {
   "attachments": {},
   "cell_type": "markdown",
   "metadata": {},
   "source": [
    "# REFERENCES\n",
    "1.Các slide giảng dạy trên lớp (https://drive.google.com/drive/folders/1WBgeLNoWVuWRaGrp2i6Z4tAEn8IpFqpq)\\\n",
    "2.Các phần bài tập lý thuyết (HW1, HW2, HW3)\\\n",
    "3.Các phần bài tập thực hành (Lab1, Lab2, Lab3)\\\n",
    "4.https://towardsdatascience.com/converting-yelp-dataset-to-csv-using-pandas-2a4c8f03bd88 \\\n",
    "5.https://towardsdatascience.com/discover-your-next-favorite-restaurant-exploration-and-visualization-on-yelps-dataset-157d9799123c \\\n",
    "6.https://www.youtube.com/watch?v=hkF_oIm3lU4&t=637s\n"
   ]
  }
 ],
 "metadata": {
  "kernelspec": {
   "display_name": "min_ds-env",
   "language": "python",
   "name": "python3"
  },
  "language_info": {
   "codemirror_mode": {
    "name": "ipython",
    "version": 3
   },
   "file_extension": ".py",
   "mimetype": "text/x-python",
   "name": "python",
   "nbconvert_exporter": "python",
   "pygments_lexer": "ipython3",
   "version": "3.8.8"
  },
  "orig_nbformat": 4,
  "vscode": {
   "interpreter": {
    "hash": "f447e121f64a7e2e5b6f96a26532dd6d26caee04b910800d7f3252c2abe944f4"
   }
  }
 },
 "nbformat": 4,
 "nbformat_minor": 2
}
